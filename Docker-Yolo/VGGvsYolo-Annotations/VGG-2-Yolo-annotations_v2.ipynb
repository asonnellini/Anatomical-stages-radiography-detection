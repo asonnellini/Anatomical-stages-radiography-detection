{
 "cells": [
  {
   "cell_type": "markdown",
   "metadata": {},
   "source": [
    "This script transforms the annotations produced with VGG into YOLO compatible annotations.\n",
    "\n",
    "VGG provides images where for each box (Xmin, Ymin, BoxWidth, BoxHeight)\n",
    "\n",
    "YOLO needs: \n",
    "\n",
    "    - BoxXRelCenter = (xmin + xmax)/(2* img_width) \n",
    "    - BoxYRelCenter = (ymin + ymax)/(2* img_heigth)\n",
    "    - BoxRelWidth = (BoxWidth/img_width)\n",
    "    - BoxRelHeight = (BoxHeight/img_heigth)\n",
    "\n",
    "where:\n",
    "\n",
    "    - xmax = xmin + BoxWidth\n",
    "    - ymax = ymin + BoxHeight\n",
    "\n",
    "\n",
    "To identify the class we will use the following convention:\n",
    "\n",
    "- 0 - PELVIS\n",
    "- 1 - SPINE\n",
    "- 2 - ABDOMEN\n",
    "- 3 - CHEST\n",
    "- 4 - HEAD\n",
    "- 5 - SHOULDER R\n",
    "- 6 - SHOULDER L"
   ]
  },
  {
   "cell_type": "code",
   "execution_count": 1,
   "metadata": {},
   "outputs": [],
   "source": [
    "import os #to move from one folder to another even if it is not working fine\n",
    "import pandas as pd # all metadata are stored in df\n",
    "import re # regular expressions\n",
    "import cv2 #needed to get the size of the image\n",
    "import shutil as sh# needed to copy files"
   ]
  },
  {
   "cell_type": "code",
   "execution_count": 2,
   "metadata": {},
   "outputs": [],
   "source": [
    "## Type here the path to the corresponding folders - NOTE: do not include at the end of the path the folder separator\n",
    "\n",
    "# Directory where the VGG annotations are - in this directory\n",
    "#VGGAnnotatorDir = \"D:\\\\BIG_DATA\\\\DSTI\\\\OneDrive - Data ScienceTech Institute\\\\2020-05-30-python_crash_course\\\\projects_with_assan\\\\healthcare\\\\material\\\\images\\\\pelvis\\\\tech-adjust\\\\testYoloFile\"\n",
    "VGGAnnotatorDir = \"D:\\\\BIG_DATA\\\\DSTI\\\\OneDrive - Data ScienceTech Institute\\\\2020-05-30-python_crash_course\\\\projects_with_assan\\\\healthcare\\\\material\\\\images\\\\CHEST\\\\Andrea\"\n",
    "\n",
    "#name of the annotation file from VGG\n",
    "#VGGAnnotationFile = \"pelvis_13_10_2020_annotation.csv\"\n",
    "VGGAnnotationFile = \"VGG_CHEST_Andrea_16Nov2020_merged_with_Mouna.csv\"\n",
    "\n",
    "# Directory with all and only images\n",
    "imgDir = \"D:\\\\BIG_DATA\\DSTI\\\\OneDrive - Data ScienceTech Institute\\\\2020-05-30-python_crash_course\\\\projects_with_assan\\\\healthcare\\\\material\\\\images\\\\CHEST\\\\Andrea\\\\img\"\n",
    "\n",
    "# Directory where to save the <imageId>.txt files along with the <imageId>.png\n",
    "imgAndYoloAnn = \"D:\\\\BIG_DATA\\DSTI\\\\OneDrive - Data ScienceTech Institute\\\\2020-05-30-python_crash_course\\\\projects_with_assan\\\\healthcare\\\\material\\\\images\\\\CHEST\\\\Andrea\\\\annotations\"\n",
    "\n",
    "# Directory where to save train.txt and test.txt\n",
    "directoryTrainTxt = \"D:\\\\BIG_DATA\\DSTI\\\\OneDrive - Data ScienceTech Institute\\\\2020-05-30-python_crash_course\\\\projects_with_assan\\\\healthcare\\\\material\\\\images\\\\CHEST\\\\Andrea\\\\pathImg\"\n",
    "\n",
    "# Name of the txt file listing all images - make sure to specify the proper \n",
    "# name giving info about what images you are dealing with\n",
    "# this file will be saved in the folder referred by directoryTrainTxt\n",
    "nameTxt = \"Images_chest.txt\"\n",
    "\n",
    "# Path of the folder on docker image that will host the pics\n",
    "darknetFolderTxt = \"/exchange/images\""
   ]
  },
  {
   "cell_type": "code",
   "execution_count": 3,
   "metadata": {},
   "outputs": [],
   "source": [
    "# Dictionary with the class code for each class\n",
    "classDic = dict({\"PELVIS\": int(0), \"SPINE\": int(1), \"ABDOMEN\": int(2), \"CHEST\":int(3), \"HEAD\":int(4), \"SHOULDER R\": int(5), \"SHOULDER L\": int(6)})"
   ]
  },
  {
   "cell_type": "code",
   "execution_count": 4,
   "metadata": {},
   "outputs": [],
   "source": [
    "#import annotations\n",
    "annotation = pd.read_csv(VGGAnnotatorDir + \"\\\\\" + VGGAnnotationFile)\n",
    "\n",
    "#check annotations\n",
    "#annotation.head(5)"
   ]
  },
  {
   "cell_type": "code",
   "execution_count": 5,
   "metadata": {},
   "outputs": [],
   "source": [
    "# retain only columns of interest\n",
    "annotShort = annotation[[\"filename\",\"region_id\",\"region_shape_attributes\", \"region_attributes\"]]"
   ]
  },
  {
   "cell_type": "code",
   "execution_count": 6,
   "metadata": {},
   "outputs": [],
   "source": [
    "# check\n",
    "#annotShort.head(4)"
   ]
  },
  {
   "cell_type": "code",
   "execution_count": 7,
   "metadata": {},
   "outputs": [],
   "source": [
    "def spotFront(attributes):\n",
    "    \"\"\"\n",
    "    This function returns 1 if the input string has the word \"FRONT\", 0 otherwise \n",
    "    \n",
    "    This is needed to select only those images which are taken from the FRONT view\n",
    "    \"\"\"\n",
    "    if attributes.find(\"FRONT\") != -1:\n",
    "        res = 1\n",
    "    else:\n",
    "        res = 0\n",
    "        \n",
    "    return res"
   ]
  },
  {
   "cell_type": "code",
   "execution_count": 8,
   "metadata": {},
   "outputs": [
    {
     "name": "stderr",
     "output_type": "stream",
     "text": [
      "C:\\Users\\Andrea\\AppData\\Local\\Continuum\\anaconda3\\envs\\AI-class\\lib\\site-packages\\ipykernel_launcher.py:2: SettingWithCopyWarning: \n",
      "A value is trying to be set on a copy of a slice from a DataFrame.\n",
      "Try using .loc[row_indexer,col_indexer] = value instead\n",
      "\n",
      "See the caveats in the documentation: https://pandas.pydata.org/pandas-docs/stable/user_guide/indexing.html#returning-a-view-versus-a-copy\n",
      "  \n"
     ]
    }
   ],
   "source": [
    "# Create column Front: it takes value 1 if the annotation refers to a FRONT image, 0 otherwise \n",
    "annotShort[\"Front\"] = annotShort[\"region_attributes\"].map( spotFront )"
   ]
  },
  {
   "cell_type": "code",
   "execution_count": 9,
   "metadata": {},
   "outputs": [],
   "source": [
    "#annotShort.head(3)"
   ]
  },
  {
   "cell_type": "code",
   "execution_count": 10,
   "metadata": {},
   "outputs": [],
   "source": [
    "# retain only rows that has column Front = 1\n",
    "frontAnnotations = annotShort[annotShort[\"Front\"] == 1]"
   ]
  },
  {
   "cell_type": "code",
   "execution_count": 11,
   "metadata": {},
   "outputs": [],
   "source": [
    "#frontAnnotations.head(3)"
   ]
  },
  {
   "cell_type": "code",
   "execution_count": 12,
   "metadata": {},
   "outputs": [],
   "source": [
    "def extractAttribute(inputString):\n",
    "    \"\"\"\n",
    "    This function returns the Section of the body that has the attribute :\"FRONT\":true\n",
    "    \"\"\"\n",
    "    #print(type(inputString))\n",
    "    charToRemove = str.maketrans(\"\",\"\",\"{}\") # translation map to remove \"{\" and \"}\"\n",
    "    \n",
    "    inputString = inputString.translate(charToRemove) # remove \"{\" and \"}\"\n",
    "    \n",
    "    res = [x for x in inputString.split(\",\") if x.find(\"FRONT\") != -1][0]\n",
    "    \n",
    "    res = res.split(\":\\\"FRONT\\\":true\")[0]\n",
    "    \n",
    "    res = res.replace(\"\\\"\",\"\")\n",
    "    \n",
    "    return res    "
   ]
  },
  {
   "cell_type": "code",
   "execution_count": 13,
   "metadata": {},
   "outputs": [],
   "source": [
    "#type(frontAnnotations[\"region_attributes\"][0])"
   ]
  },
  {
   "cell_type": "code",
   "execution_count": 14,
   "metadata": {},
   "outputs": [
    {
     "name": "stderr",
     "output_type": "stream",
     "text": [
      "C:\\Users\\Andrea\\AppData\\Local\\Continuum\\anaconda3\\envs\\AI-class\\lib\\site-packages\\ipykernel_launcher.py:2: SettingWithCopyWarning: \n",
      "A value is trying to be set on a copy of a slice from a DataFrame.\n",
      "Try using .loc[row_indexer,col_indexer] = value instead\n",
      "\n",
      "See the caveats in the documentation: https://pandas.pydata.org/pandas-docs/stable/user_guide/indexing.html#returning-a-view-versus-a-copy\n",
      "  \n"
     ]
    }
   ],
   "source": [
    "# create column Section: it shows the body section the annotation refers to\n",
    "frontAnnotations[\"Section\"] = frontAnnotations[\"region_attributes\"].map(extractAttribute)"
   ]
  },
  {
   "cell_type": "code",
   "execution_count": 15,
   "metadata": {},
   "outputs": [
    {
     "data": {
      "text/html": [
       "<div>\n",
       "<style scoped>\n",
       "    .dataframe tbody tr th:only-of-type {\n",
       "        vertical-align: middle;\n",
       "    }\n",
       "\n",
       "    .dataframe tbody tr th {\n",
       "        vertical-align: top;\n",
       "    }\n",
       "\n",
       "    .dataframe thead th {\n",
       "        text-align: right;\n",
       "    }\n",
       "</style>\n",
       "<table border=\"1\" class=\"dataframe\">\n",
       "  <thead>\n",
       "    <tr style=\"text-align: right;\">\n",
       "      <th></th>\n",
       "      <th>filename</th>\n",
       "      <th>region_id</th>\n",
       "      <th>region_shape_attributes</th>\n",
       "      <th>region_attributes</th>\n",
       "      <th>Front</th>\n",
       "      <th>Section</th>\n",
       "    </tr>\n",
       "  </thead>\n",
       "  <tbody>\n",
       "    <tr>\n",
       "      <th>0</th>\n",
       "      <td>4800.png</td>\n",
       "      <td>0</td>\n",
       "      <td>{\"name\":\"rect\",\"x\":36,\"y\":40,\"width\":397,\"heig...</td>\n",
       "      <td>{\"HEAD\":{},\"CHEST\":{\"FRONT\":true},\"ABDOMEN\":{}...</td>\n",
       "      <td>1</td>\n",
       "      <td>CHEST</td>\n",
       "    </tr>\n",
       "    <tr>\n",
       "      <th>1</th>\n",
       "      <td>4800.png</td>\n",
       "      <td>1</td>\n",
       "      <td>{\"name\":\"rect\",\"x\":189,\"y\":0,\"width\":83,\"heigh...</td>\n",
       "      <td>{\"HEAD\":{},\"CHEST\":{},\"ABDOMEN\":{},\"PELVIS\":{}...</td>\n",
       "      <td>1</td>\n",
       "      <td>SPINE</td>\n",
       "    </tr>\n",
       "    <tr>\n",
       "      <th>2</th>\n",
       "      <td>4800.png</td>\n",
       "      <td>2</td>\n",
       "      <td>{\"name\":\"rect\",\"x\":35,\"y\":343,\"width\":399,\"hei...</td>\n",
       "      <td>{\"HEAD\":{},\"CHEST\":{},\"ABDOMEN\":{\"FRONT\":true}...</td>\n",
       "      <td>1</td>\n",
       "      <td>ABDOMEN</td>\n",
       "    </tr>\n",
       "  </tbody>\n",
       "</table>\n",
       "</div>"
      ],
      "text/plain": [
       "   filename  region_id                            region_shape_attributes  \\\n",
       "0  4800.png          0  {\"name\":\"rect\",\"x\":36,\"y\":40,\"width\":397,\"heig...   \n",
       "1  4800.png          1  {\"name\":\"rect\",\"x\":189,\"y\":0,\"width\":83,\"heigh...   \n",
       "2  4800.png          2  {\"name\":\"rect\",\"x\":35,\"y\":343,\"width\":399,\"hei...   \n",
       "\n",
       "                                   region_attributes  Front  Section  \n",
       "0  {\"HEAD\":{},\"CHEST\":{\"FRONT\":true},\"ABDOMEN\":{}...      1    CHEST  \n",
       "1  {\"HEAD\":{},\"CHEST\":{},\"ABDOMEN\":{},\"PELVIS\":{}...      1    SPINE  \n",
       "2  {\"HEAD\":{},\"CHEST\":{},\"ABDOMEN\":{\"FRONT\":true}...      1  ABDOMEN  "
      ]
     },
     "execution_count": 15,
     "metadata": {},
     "output_type": "execute_result"
    }
   ],
   "source": [
    "frontAnnotations.head(3)"
   ]
  },
  {
   "cell_type": "code",
   "execution_count": 16,
   "metadata": {},
   "outputs": [],
   "source": [
    "def extractBox(boxCoord):\n",
    "    \"\"\"\n",
    "    This function takes a string like the one in the column \"region_shape_attributes\" and returns\n",
    "    the values of x, y, width, heigth - note: each of these values are returned as strings\n",
    "    \"\"\"\n",
    "    \n",
    "    \n",
    "    tranMap = str.maketrans(\"\",\"\",\"{}\\\"\") # translation map to remove \"{\" and \"}\" and \"\n",
    "    \n",
    "    boxCoord = boxCoord.translate(tranMap) # remove \"{\" and \"}\"\n",
    "    \n",
    "    splittedBoxCoord = re.split(\":|,\",boxCoord)\n",
    "    \n",
    "    res = [ float(splittedBoxCoord[i]) for i in range(3,10,2) ]\n",
    "    \n",
    "    return res"
   ]
  },
  {
   "cell_type": "code",
   "execution_count": 17,
   "metadata": {},
   "outputs": [
    {
     "name": "stderr",
     "output_type": "stream",
     "text": [
      "C:\\Users\\Andrea\\AppData\\Local\\Continuum\\anaconda3\\envs\\AI-class\\lib\\site-packages\\ipykernel_launcher.py:1: SettingWithCopyWarning: \n",
      "A value is trying to be set on a copy of a slice from a DataFrame.\n",
      "Try using .loc[row_indexer,col_indexer] = value instead\n",
      "\n",
      "See the caveats in the documentation: https://pandas.pydata.org/pandas-docs/stable/user_guide/indexing.html#returning-a-view-versus-a-copy\n",
      "  \"\"\"Entry point for launching an IPython kernel.\n"
     ]
    }
   ],
   "source": [
    "frontAnnotations[\"Xmin, Ymin, Width, Heigth\"] = frontAnnotations[\"region_shape_attributes\"].map(extractBox)"
   ]
  },
  {
   "cell_type": "code",
   "execution_count": 18,
   "metadata": {
    "scrolled": true
   },
   "outputs": [
    {
     "data": {
      "text/html": [
       "<div>\n",
       "<style scoped>\n",
       "    .dataframe tbody tr th:only-of-type {\n",
       "        vertical-align: middle;\n",
       "    }\n",
       "\n",
       "    .dataframe tbody tr th {\n",
       "        vertical-align: top;\n",
       "    }\n",
       "\n",
       "    .dataframe thead th {\n",
       "        text-align: right;\n",
       "    }\n",
       "</style>\n",
       "<table border=\"1\" class=\"dataframe\">\n",
       "  <thead>\n",
       "    <tr style=\"text-align: right;\">\n",
       "      <th></th>\n",
       "      <th>filename</th>\n",
       "      <th>region_id</th>\n",
       "      <th>region_shape_attributes</th>\n",
       "      <th>region_attributes</th>\n",
       "      <th>Front</th>\n",
       "      <th>Section</th>\n",
       "      <th>Xmin, Ymin, Width, Heigth</th>\n",
       "    </tr>\n",
       "  </thead>\n",
       "  <tbody>\n",
       "    <tr>\n",
       "      <th>0</th>\n",
       "      <td>4800.png</td>\n",
       "      <td>0</td>\n",
       "      <td>{\"name\":\"rect\",\"x\":36,\"y\":40,\"width\":397,\"heig...</td>\n",
       "      <td>{\"HEAD\":{},\"CHEST\":{\"FRONT\":true},\"ABDOMEN\":{}...</td>\n",
       "      <td>1</td>\n",
       "      <td>CHEST</td>\n",
       "      <td>[36.0, 40.0, 397.0, 380.0]</td>\n",
       "    </tr>\n",
       "    <tr>\n",
       "      <th>1</th>\n",
       "      <td>4800.png</td>\n",
       "      <td>1</td>\n",
       "      <td>{\"name\":\"rect\",\"x\":189,\"y\":0,\"width\":83,\"heigh...</td>\n",
       "      <td>{\"HEAD\":{},\"CHEST\":{},\"ABDOMEN\":{},\"PELVIS\":{}...</td>\n",
       "      <td>1</td>\n",
       "      <td>SPINE</td>\n",
       "      <td>[189.0, 0.0, 83.0, 416.0]</td>\n",
       "    </tr>\n",
       "  </tbody>\n",
       "</table>\n",
       "</div>"
      ],
      "text/plain": [
       "   filename  region_id                            region_shape_attributes  \\\n",
       "0  4800.png          0  {\"name\":\"rect\",\"x\":36,\"y\":40,\"width\":397,\"heig...   \n",
       "1  4800.png          1  {\"name\":\"rect\",\"x\":189,\"y\":0,\"width\":83,\"heigh...   \n",
       "\n",
       "                                   region_attributes  Front Section  \\\n",
       "0  {\"HEAD\":{},\"CHEST\":{\"FRONT\":true},\"ABDOMEN\":{}...      1   CHEST   \n",
       "1  {\"HEAD\":{},\"CHEST\":{},\"ABDOMEN\":{},\"PELVIS\":{}...      1   SPINE   \n",
       "\n",
       "    Xmin, Ymin, Width, Heigth  \n",
       "0  [36.0, 40.0, 397.0, 380.0]  \n",
       "1   [189.0, 0.0, 83.0, 416.0]  "
      ]
     },
     "execution_count": 18,
     "metadata": {},
     "output_type": "execute_result"
    }
   ],
   "source": [
    "frontAnnotations.head(2)"
   ]
  },
  {
   "cell_type": "code",
   "execution_count": 19,
   "metadata": {
    "scrolled": true
   },
   "outputs": [],
   "source": [
    "def getImgDim(imageFile, imgPath):\n",
    "    \"\"\"\n",
    "    This function takes in input the image file name along with its path, and returns the dimension of the image\n",
    "    \"\"\"\n",
    "    \n",
    "    finalPath = os.path.join(imgPath, imageFile)\n",
    "    \n",
    "    idImg = cv2.imread(finalPath)\n",
    "    \n",
    "    return idImg.shape"
   ]
  },
  {
   "cell_type": "code",
   "execution_count": 20,
   "metadata": {},
   "outputs": [],
   "source": [
    "#imgDir = os.path.join(imgDir,\"images_renamed_pos\") using os.path.join does not work\n",
    "\n",
    "# all images file names\n",
    "imgID = os.listdir(imgDir)\n",
    "\n",
    "#dictionary where the {key:value} is {imgFileName:tuple(Img_heigth, Img_width, channel)} ==> needed to get image dimensions\n",
    "IDdimension = { imgID[i] : getImgDim(imgID[i], imgDir) for i in range(len(imgID))}"
   ]
  },
  {
   "cell_type": "markdown",
   "metadata": {},
   "source": [
    "VGG provides images where for each box (Xmin, Ymin, BoxWidth, BoxHeight)\n",
    "\n",
    "YOLO needs: \n",
    "\n",
    "    - BoxXRelCenter = (xmin + xmax)/(2* img_width) \n",
    "    - BoxYRelCenter = (ymin + ymax)/(2* img_heigth)\n",
    "    - BoxRelWidth = (BoxWidth/img_width)\n",
    "    - BoxRelHeight = (BoxHeight/img_heigth)\n",
    "\n",
    "where:\n",
    "\n",
    "    - xmax = xmin + BoxWidth\n",
    "    - ymax = ymin + BoxHeight\n"
   ]
  },
  {
   "cell_type": "code",
   "execution_count": 21,
   "metadata": {},
   "outputs": [],
   "source": [
    "def VggToYolo(filename, vggAnn, imageDimDict ):\n",
    "    \"\"\"\n",
    "    This function will be applied in order to create a column YoloAnn that has the Annotation in Yolo compatible\n",
    "    format.\n",
    "    E.g.:\n",
    "    \n",
    "    dataframe[\"YoloAnn\"] = dataframe[[\"filename\", \"Xmin, Ymin, Width, Heigth\"]].apply(VggToYolo(imageDimDict = IDdimension))\n",
    "    \n",
    "    Input:\n",
    "    \n",
    "        filename = filename of an image\n",
    "\n",
    "        vggAnn = list of 4 floats [BoxXmax, BoxYmax, BoxWidth, BoxHeigth]\n",
    "\n",
    "        imageDimDict = dictionary with {imgFileName:tuple(Img_heigth, Img_width, channel)}\n",
    "    \n",
    "    Output:\n",
    "    \n",
    "        [BoxXRelCenter, BoxYRelCenter, BoxRelWidth, BoxRelHeight]\n",
    "        \n",
    "        where\n",
    "            - BoxXRelCenter = (xmin + xmax)/(2* img_width) \n",
    "            - BoxYRelCenter = (ymin + ymax)/(2* img_heigth)\n",
    "            - BoxRelWidth = (BoxWidth/img_width)\n",
    "            - BoxRelHeight = (BoxHeight/img_heigth)\n",
    "\n",
    "    \n",
    "    \"\"\"\n",
    "    #print(filename)\n",
    "    \n",
    "    #extract real image height\n",
    "    img_heigth = imageDimDict[filename][0] \n",
    "    \n",
    "    #extract real image width\n",
    "    img_width = imageDimDict[filename][1] \n",
    "    \n",
    "    #Vgg info\n",
    "    xmin , ymin, BoxWidth, BoxHeight = vggAnn\n",
    "\n",
    "\n",
    "    \n",
    "    #infer the absolute xmax and ymax of the annotation\n",
    "    xmax = xmin + BoxWidth\n",
    "    ymax = ymin + BoxHeight\n",
    "    \n",
    "    \n",
    "    #Yolo annotation\n",
    "    BoxXRelCenter = \"%0.6f\" % (round((xmin + xmax)/(2* img_width),6))\n",
    "    BoxYRelCenter = \"%0.6f\" % (round((ymin + ymax)/(2* img_heigth),6))\n",
    "    BoxRelWidth = \"%0.6f\" % (round((BoxWidth/img_width),6))\n",
    "    BoxRelHeight = \"%0.6f\" % (round((BoxHeight/img_heigth),6))\n",
    "    \n",
    "    # Conver Yolo annotation \n",
    "    BoxXRelCenterNum = round((xmin + xmax)/(2* img_width),6)\n",
    "    BoxYRelCenterNum = round((ymin + ymax)/(2* img_heigth),6)\n",
    "    BoxRelWidthNum = round((BoxWidth/img_width),6)\n",
    "    BoxRelHeightNum = round((BoxHeight/img_heigth),6)\n",
    "    \n",
    "    if (BoxXRelCenterNum < 0) or (BoxYRelCenterNum < 0) or (BoxRelWidthNum < 0) or (BoxRelHeightNum < 0) or (BoxXRelCenterNum > 1) or (BoxYRelCenterNum > 1) or (BoxRelWidthNum > 1) or (BoxRelHeightNum > 1):\n",
    "        print(\"ERROR: one of the Yolo coordinate is outside the interval [0,1]\")\n",
    "        print(f\"File name is {filename}\")\n",
    "        print(f\"BoxXRelCenterNum is {BoxXRelCenterNum}\")\n",
    "        print(f\"BoxYRelCenterNum is {BoxYRelCenterNum}\")\n",
    "        print(f\"BoxRelWidth is {BoxRelWidth}\")\n",
    "        print(f\"BoxRelHeight is {BoxRelHeight}\")\n",
    "    \n",
    "    return [BoxXRelCenter, BoxYRelCenter, BoxRelWidth, BoxRelHeight]\n",
    "    "
   ]
  },
  {
   "cell_type": "code",
   "execution_count": 22,
   "metadata": {
    "scrolled": true
   },
   "outputs": [
    {
     "name": "stderr",
     "output_type": "stream",
     "text": [
      "C:\\Users\\Andrea\\AppData\\Local\\Continuum\\anaconda3\\envs\\AI-class\\lib\\site-packages\\ipykernel_launcher.py:3: SettingWithCopyWarning: \n",
      "A value is trying to be set on a copy of a slice from a DataFrame.\n",
      "Try using .loc[row_indexer,col_indexer] = value instead\n",
      "\n",
      "See the caveats in the documentation: https://pandas.pydata.org/pandas-docs/stable/user_guide/indexing.html#returning-a-view-versus-a-copy\n",
      "  This is separate from the ipykernel package so we can avoid doing imports until\n"
     ]
    }
   ],
   "source": [
    "\n",
    "frontAnnotations[\"Yolo XcRel, YcRel, WidthRel, HeightRel\"] = (\n",
    "    \n",
    "    frontAnnotations[[\"filename\", \"Xmin, Ymin, Width, Heigth\"]].apply(lambda x: VggToYolo(x.loc[\"filename\"] ,x.loc[\"Xmin, Ymin, Width, Heigth\"],IDdimension), axis = 1)\n",
    "    )"
   ]
  },
  {
   "cell_type": "code",
   "execution_count": 23,
   "metadata": {},
   "outputs": [],
   "source": [
    "#frontAnnotations[[\"filename\", \"Xmax, Ymax, Width, Heigth\",\"Yolo XcRel, YcRel, WidthRel, HeightRel\"]].head(3)"
   ]
  },
  {
   "cell_type": "code",
   "execution_count": 24,
   "metadata": {
    "scrolled": false
   },
   "outputs": [
    {
     "name": "stdout",
     "output_type": "stream",
     "text": [
      "['0.519956', '0.856540', '0.884701', '0.265823']\n"
     ]
    }
   ],
   "source": [
    "print(frontAnnotations[\"Yolo XcRel, YcRel, WidthRel, HeightRel\"][2])"
   ]
  },
  {
   "cell_type": "code",
   "execution_count": 25,
   "metadata": {},
   "outputs": [
    {
     "name": "stderr",
     "output_type": "stream",
     "text": [
      "C:\\Users\\Andrea\\AppData\\Local\\Continuum\\anaconda3\\envs\\AI-class\\lib\\site-packages\\ipykernel_launcher.py:1: SettingWithCopyWarning: \n",
      "A value is trying to be set on a copy of a slice from a DataFrame.\n",
      "Try using .loc[row_indexer,col_indexer] = value instead\n",
      "\n",
      "See the caveats in the documentation: https://pandas.pydata.org/pandas-docs/stable/user_guide/indexing.html#returning-a-view-versus-a-copy\n",
      "  \"\"\"Entry point for launching an IPython kernel.\n"
     ]
    }
   ],
   "source": [
    "frontAnnotations[\"class\"] = frontAnnotations[\"Section\"].map(classDic)"
   ]
  },
  {
   "cell_type": "code",
   "execution_count": 26,
   "metadata": {
    "scrolled": true
   },
   "outputs": [],
   "source": [
    "YoloAnnotations = frontAnnotations[[\"filename\", \"class\",\"Xmin, Ymin, Width, Heigth\",\"Yolo XcRel, YcRel, WidthRel, HeightRel\"]]"
   ]
  },
  {
   "cell_type": "markdown",
   "metadata": {},
   "source": [
    "## Create the txt files needed by Yolo\n",
    "\n",
    "Each file has to be named <pictureId>.txt and has to have:\n",
    "    - as many lines as the annotations on the picture\n",
    "    - each line has the:\n",
    "        - class the object belongs to, following the same convention established in the file *.names\n",
    "        - the relative coordinates of the box: XcRel, YcRel, WidthRel, HeightRel"
   ]
  },
  {
   "cell_type": "code",
   "execution_count": 27,
   "metadata": {},
   "outputs": [],
   "source": [
    "# Algo is: \n",
    "# extract the file name \n",
    "# extract the class\n",
    "# extract the Yolo coordinates\n",
    "\n",
    "def YoloFileAnnotation(picId, classId, YoloCoord, targetDirImgAndAnn):\n",
    "    \"\"\"\n",
    "    This function has to be applied to YoloANnotations dataframe and creates as many files as the images \n",
    "    listed in YoloAnnotations.\n",
    "    Each file has for each image as many rows as the annotation, and for each annotation lists the \n",
    "    class and its Yolo-compatible coordinates\n",
    "    \"\"\"\n",
    "    \n",
    "    #replace \"png\" with \"txt\"\n",
    "    picId = picId.replace(\"png\",\"txt\")\n",
    "    \n",
    "    #print(picId)\n",
    "    \n",
    "    #build the string to be \n",
    "    output = (str(classId) + \" \")\n",
    "    output += \" \".join(str(x) for x in YoloCoord)\n",
    "    \n",
    "    try:\n",
    "        with open(imgAndYoloAnn + \"\\\\\" + picId,\"a\") as f:\n",
    "            f.write(output + \"\\n\")\n",
    "        #print(\"Executed\")\n",
    "    except Exception as e:\n",
    "        print(\"Cannot write the file on disk. \\nCheck whether the below target folder exists/is accessible:\\n\")\n",
    "        print(targetDirImgAndAnn)\n",
    "        \n",
    "    "
   ]
  },
  {
   "cell_type": "code",
   "execution_count": 28,
   "metadata": {},
   "outputs": [],
   "source": [
    "def ExecuteYoloFileAnnotation(inputDF, targetDirImgAndAnn):\n",
    "    \"\"\"\n",
    "    This function applies the function YoloFileAnnotation to the dataframe inputDF\n",
    "    \"\"\"\n",
    "    inputDF.apply(lambda x:  YoloFileAnnotation(x.loc[\"filename\"], x.loc[\"class\"], x.loc[\"Yolo XcRel, YcRel, WidthRel, HeightRel\"], targetDirImgAndAnn), axis = 1)\n",
    "    \n",
    "    \n",
    "    "
   ]
  },
  {
   "cell_type": "code",
   "execution_count": 29,
   "metadata": {},
   "outputs": [],
   "source": [
    "ExecuteYoloFileAnnotation(YoloAnnotations, imgAndYoloAnn)"
   ]
  },
  {
   "cell_type": "markdown",
   "metadata": {},
   "source": [
    "## Move images to folder pointed by variable imgAndYoloAnn"
   ]
  },
  {
   "cell_type": "code",
   "execution_count": 30,
   "metadata": {},
   "outputs": [],
   "source": [
    "def moveImage(imageId, currentDir, newDir):\n",
    "    \n",
    "    sh.copy(currentDir + \"\\\\\" + imageId, newDir)"
   ]
  },
  {
   "cell_type": "code",
   "execution_count": 31,
   "metadata": {},
   "outputs": [
    {
     "data": {
      "text/plain": [
       "0       None\n",
       "1       None\n",
       "2       None\n",
       "3       None\n",
       "4       None\n",
       "        ... \n",
       "1090    None\n",
       "1091    None\n",
       "1092    None\n",
       "1093    None\n",
       "1094    None\n",
       "Name: filename, Length: 1075, dtype: object"
      ]
     },
     "execution_count": 31,
     "metadata": {},
     "output_type": "execute_result"
    }
   ],
   "source": [
    "YoloAnnotations[\"filename\"].map( lambda x: moveImage(x,imgDir, imgAndYoloAnn ) )"
   ]
  },
  {
   "cell_type": "markdown",
   "metadata": {},
   "source": [
    "## Create file with list of images for train and test"
   ]
  },
  {
   "cell_type": "code",
   "execution_count": 32,
   "metadata": {},
   "outputs": [],
   "source": [
    "#extract images filename\n",
    "ArrayFile = YoloAnnotations[\"filename\"].unique()"
   ]
  },
  {
   "cell_type": "code",
   "execution_count": 33,
   "metadata": {},
   "outputs": [],
   "source": [
    "# Create train.txt\n",
    "def CreateTrainTxt(inputSeriesImages, SaveTotargetDir, targetFileName, ImagePathInsideDarknet):\n",
    "    \"\"\"\n",
    "    This function will write a txt file named as targetFilename that lists all images; \n",
    "    Specifically:\n",
    "    \n",
    "    - inputSeriesImages: Series object containing file names \n",
    "    - SaveTotargetDir: local directory where the final txt file will be saved\n",
    "    - targetFileName: name of the txt file that this functio will create\n",
    "    - ImagePathInsideDarknet: each entry in the txt file will be the concatenation of ImagePathInsideDarknet and \n",
    "        the image name taken from inputSeriesImages\n",
    "    \n",
    "    \"\"\"\n",
    "    \n",
    "    # Convert input Series in list\n",
    "    listImages = list(inputSeriesImages)\n",
    "    \n",
    "    # create a list made of strings where each element is made from the concatenation of darknetFolderTxt and the imagesFileName \n",
    "    finalListImages = [ImagePathInsideDarknet + \"/\" + i for i in listImages]\n",
    "    \n",
    "    #\n",
    "    content = \"\\n\".join(finalListImages)\n",
    "    \n",
    "    try:\n",
    "        with open(SaveTotargetDir + \"\\\\\" + targetFileName,\"a\") as f:\n",
    "            f.write(content + \"\\n\")\n",
    "        #print(\"Executed\")\n",
    "    except Exception as e:\n",
    "        print(\"Cannot write the file on disk. \\nCheck whether the below target folder exists/is accessible:\\n\")\n",
    "        print(SaveTotargetDir)\n"
   ]
  },
  {
   "cell_type": "code",
   "execution_count": 34,
   "metadata": {},
   "outputs": [],
   "source": [
    "CreateTrainTxt(ArrayFile, directoryTrainTxt, nameTxt, darknetFolderTxt)"
   ]
  },
  {
   "cell_type": "code",
   "execution_count": 35,
   "metadata": {},
   "outputs": [
    {
     "data": {
      "text/plain": [
       "363"
      ]
     },
     "execution_count": 35,
     "metadata": {},
     "output_type": "execute_result"
    }
   ],
   "source": [
    "len(ArrayFile)"
   ]
  },
  {
   "cell_type": "code",
   "execution_count": 37,
   "metadata": {},
   "outputs": [],
   "source": [
    "from sklearn.model_selection import train_test_split"
   ]
  },
  {
   "cell_type": "code",
   "execution_count": 38,
   "metadata": {},
   "outputs": [],
   "source": [
    "train, test = train_test_split(ArrayFile)"
   ]
  },
  {
   "cell_type": "code",
   "execution_count": 54,
   "metadata": {},
   "outputs": [],
   "source": [
    "CreateTrainTxt(train, directoryTrainTxt, \"train_chest.txt\", darknetFolderTxt)"
   ]
  },
  {
   "cell_type": "code",
   "execution_count": 55,
   "metadata": {},
   "outputs": [],
   "source": [
    "CreateTrainTxt(test, directoryTrainTxt, \"test_chest.txt\", darknetFolderTxt)"
   ]
  }
 ],
 "metadata": {
  "kernelspec": {
   "display_name": "Python 3",
   "language": "python",
   "name": "python3"
  },
  "language_info": {
   "codemirror_mode": {
    "name": "ipython",
    "version": 3
   },
   "file_extension": ".py",
   "mimetype": "text/x-python",
   "name": "python",
   "nbconvert_exporter": "python",
   "pygments_lexer": "ipython3",
   "version": "3.6.10"
  }
 },
 "nbformat": 4,
 "nbformat_minor": 4
}
